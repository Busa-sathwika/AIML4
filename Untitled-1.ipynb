{
 "cells": [
  {
   "cell_type": "code",
   "execution_count": null,
   "metadata": {},
   "outputs": [],
   "source": [
    "import numpy \n",
    " \n",
    "# initializing list\n",
    "lst = [1, 7, 0, 6, 2, 5, 6]\n",
    " \n",
    "# converting list to array\n",
    "arr = numpy.array(lst)\n",
    " \n",
    "# displaying list\n",
    "print (\"List: \", lst)\n",
    " \n",
    "# displaying array\n",
    "print (\"Array: \", arr)"
   ]
  }
 ],
 "metadata": {
  "language_info": {
   "name": "python"
  }
 },
 "nbformat": 4,
 "nbformat_minor": 2
}
